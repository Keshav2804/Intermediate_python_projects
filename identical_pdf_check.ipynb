{
 "cells": [
  {
   "cell_type": "code",
   "execution_count": null,
   "id": "a1043090-7bd8-4ecf-9bfc-141171c390f7",
   "metadata": {},
   "outputs": [],
   "source": [
    "#Check if two PDF documents are identical with Python\n",
    "import PyPDF2\n",
    "\n",
    "def compare_pdfs(pdf1_path, pdf2_path):\n",
    "    # Open the two PDF files\n",
    "    with open(pdf1_path, 'rb') as pdf1_file, open(pdf2_path, 'rb') as pdf2_file:\n",
    "        # Read the PDF files\n",
    "        pdf1_reader = PyPDF2.PdfReader(pdf1_file)\n",
    "        pdf2_reader = PyPDF2.PdfReader(pdf2_file)\n",
    "        \n",
    "        # Check if the number of pages is the same\n",
    "        if len(pdf1_reader.pages) != len(pdf2_reader.pages):\n",
    "            return False\n",
    "        \n",
    "        # Compare each page\n",
    "        for page_num in range(len(pdf1_reader.pages)):\n",
    "            pdf1_page = pdf1_reader.pages[page_num]\n",
    "            pdf2_page = pdf2_reader.pages[page_num]\n",
    "            \n",
    "            # Compare the text content of each page\n",
    "            if pdf1_page.extract_text() != pdf2_page.extract_text():\n",
    "                return False\n",
    "        \n",
    "    return True\n",
    "\n",
    "# Example usage\n",
    "pdf1_path = 'file1.pdf'\n",
    "pdf2_path = 'file2.pdf'\n",
    "\n",
    "if compare_pdfs(pdf1_path, pdf2_path):\n",
    "    print(\"The PDF documents are identical.\")\n",
    "else:\n",
    "    print(\"The PDF documents are different.\")\n"
   ]
  }
 ],
 "metadata": {
  "kernelspec": {
   "display_name": "Python 3 (ipykernel)",
   "language": "python",
   "name": "python3"
  },
  "language_info": {
   "codemirror_mode": {
    "name": "ipython",
    "version": 3
   },
   "file_extension": ".py",
   "mimetype": "text/x-python",
   "name": "python",
   "nbconvert_exporter": "python",
   "pygments_lexer": "ipython3",
   "version": "3.10.0"
  }
 },
 "nbformat": 4,
 "nbformat_minor": 5
}
