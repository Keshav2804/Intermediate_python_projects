{
 "cells": [
  {
   "cell_type": "code",
   "execution_count": null,
   "id": "0b04559b-7cc2-4d08-ba6b-6deb5d0d3e17",
   "metadata": {},
   "outputs": [],
   "source": [
    "#Contact_book\n",
    "contacts = {}\n",
    "\n",
    "def add_contact_name(name, phone):\n",
    "    contacts[name] = phone\n",
    "    print(\"Contact added.\")\n",
    "\n",
    "def view_contacts():\n",
    "    if not contacts:\n",
    "        print(\"No contacts found.\")\n",
    "    for name, phone in contacts.items():\n",
    "        print(\"{}: {}\".format(name, phone))\n",
    "\n",
    "def update_contact(name, new_phone):\n",
    "    if name in contacts:\n",
    "        contacts[name] = new_phone\n",
    "        print(\"Contact updated.\")\n",
    "    else:\n",
    "        print(\"Contact not found.\")\n",
    "\n",
    "def remove_contact(name):\n",
    "    if name in contacts:\n",
    "        contacts.pop(name)\n",
    "        print(\"Contact removed.\")\n",
    "    else:\n",
    "        print(\"Contact not found.\")\n",
    "\n",
    "while True:\n",
    "    action = input(\"Choose action [add, view, update, remove, quit]: \").lower()\n",
    "    if action == \"add\":\n",
    "        name = input(\"Enter name: \")\n",
    "        phone = input(\"Enter phone number: \")\n",
    "        add_contact(name, phone)\n",
    "    elif action == \"view\":\n",
    "        view_contacts()\n",
    "    elif action == \"update\":\n",
    "        name = input(\"Enter name to update: \")\n",
    "        new_phone = input(\"Enter new phone number: \")\n",
    "        update_contact(name, new_phone)\n",
    "    elif action == \"remove\":\n",
    "        name = input(\"Enter name to remove: \")\n",
    "        remove_contact(name)\n",
    "    elif action == \"quit\":\n",
    "        break\n",
    "    else:\n",
    "        print(\"Invalid action.\")\n"
   ]
  }
 ],
 "metadata": {
  "kernelspec": {
   "display_name": "Python 3 (ipykernel)",
   "language": "python",
   "name": "python3"
  },
  "language_info": {
   "codemirror_mode": {
    "name": "ipython",
    "version": 3
   },
   "file_extension": ".py",
   "mimetype": "text/x-python",
   "name": "python",
   "nbconvert_exporter": "python",
   "pygments_lexer": "ipython3",
   "version": "3.10.0"
  }
 },
 "nbformat": 4,
 "nbformat_minor": 5
}
