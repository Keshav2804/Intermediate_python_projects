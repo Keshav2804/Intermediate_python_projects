{
 "cells": [
  {
   "cell_type": "code",
   "execution_count": null,
   "id": "1ebdc5bf-2714-4f9d-8046-450f1cdbf802",
   "metadata": {},
   "outputs": [],
   "source": [
    "#bulk file rename tool\n",
    "import os\n",
    "\n",
    "def bulk_rename_files(directory, prefix='', suffix='', new_name='', extension=''):\n",
    "    # Get the list of all files in the directory\n",
    "    files = os.listdir(directory)\n",
    "\n",
    "    # Loop through each file in the directory\n",
    "    for i, filename in enumerate(files):\n",
    "        # Get the file extension\n",
    "        file_extension = os.path.splitext(filename)[1]\n",
    "        \n",
    "        # Skip files that don't match the specified extension (if provided)\n",
    "        if extension and file_extension != extension:\n",
    "            continue\n",
    "        \n",
    "        # Construct the new filename\n",
    "        if new_name:\n",
    "            new_filename = f\"{new_name}_{i+1}{file_extension}\"\n",
    "        else:\n",
    "            new_filename = f\"{prefix}{filename}{suffix}{file_extension}\"\n",
    "        \n",
    "        # Get the full paths for the old and new filenames\n",
    "        old_file = os.path.join(directory, filename)\n",
    "        new_file = os.path.join(directory, new_filename)\n",
    "        \n",
    "        # Rename the file\n",
    "        os.rename(old_file, new_file)\n",
    "\n",
    "    print(f\"Renamed {len(files)} files in '{directory}'.\")\n",
    "\n",
    "# Usage example:\n",
    "# Directory path where files are located\n",
    "directory_path = '/path/to/your/directory'\n"
   ]
  }
 ],
 "metadata": {
  "kernelspec": {
   "display_name": "Python 3 (ipykernel)",
   "language": "python",
   "name": "python3"
  },
  "language_info": {
   "codemirror_mode": {
    "name": "ipython",
    "version": 3
   },
   "file_extension": ".py",
   "mimetype": "text/x-python",
   "name": "python",
   "nbconvert_exporter": "python",
   "pygments_lexer": "ipython3",
   "version": "3.10.0"
  }
 },
 "nbformat": 4,
 "nbformat_minor": 5
}
