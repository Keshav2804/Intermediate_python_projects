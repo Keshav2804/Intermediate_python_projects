{
 "cells": [
  {
   "cell_type": "code",
   "execution_count": null,
   "id": "5bf6a7d9-c5ef-40a2-b93e-99c6d32243bf",
   "metadata": {},
   "outputs": [],
   "source": [
    "#Directory tree generator\n",
    "import os\n",
    "\n",
    "def generate_directory_tree(start_path='.', indent='  '):\n",
    "    def tree(directory, prefix=''):\n",
    "        contents = list(os.scandir(directory))\n",
    "        pointers = ['├── '] * (len(contents) - 1) + ['└── ']\n",
    "        for pointer, entry in zip(pointers, contents):\n",
    "            yield prefix + pointer + entry.name\n",
    "            if entry.is_dir(follow_symlinks=False):\n",
    "                extension = '│   ' if pointer == '├── ' else '    '\n",
    "                yield from tree(entry.path, prefix=prefix+extension)\n",
    "\n",
    "    for line in tree(start_path):\n",
    "        print(line)\n",
    "\n",
    "# Example usage\n",
    "if __name__ == '__main__':\n",
    "    generate_directory_tree('/path/to/directory')\n"
   ]
  }
 ],
 "metadata": {
  "kernelspec": {
   "display_name": "Python 3 (ipykernel)",
   "language": "python",
   "name": "python3"
  },
  "language_info": {
   "codemirror_mode": {
    "name": "ipython",
    "version": 3
   },
   "file_extension": ".py",
   "mimetype": "text/x-python",
   "name": "python",
   "nbconvert_exporter": "python",
   "pygments_lexer": "ipython3",
   "version": "3.10.0"
  }
 },
 "nbformat": 4,
 "nbformat_minor": 5
}
