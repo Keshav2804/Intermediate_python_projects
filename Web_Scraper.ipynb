{
 "cells": [
  {
   "cell_type": "code",
   "execution_count": null,
   "id": "984c8368-b4dc-4a1d-b737-1be37fe3782b",
   "metadata": {},
   "outputs": [],
   "source": [
    "#Basic Web scraper\n",
    "import requests\n",
    "from bs4 import BeautifulSoup\n",
    "import pandas as pd\n",
    "\n",
    "# Step 1: Send a request to the website\n",
    "url = \"https://www.reddit.com/r/Python/\"\n",
    "headers = {'User-Agent': 'Mozilla/5.0'}\n",
    "response = requests.get(url, headers=headers)\n",
    "\n",
    "# Step 2: Parse the HTML content\n",
    "soup = BeautifulSoup(response.text, 'html.parser')\n",
    "\n",
    "# Step 3: Extract data (article titles in this case)\n",
    "titles = []\n",
    "for post in soup.find_all('h3'):\n",
    "    titles.append(post.text)\n",
    "\n",
    "# Step 4: Store data in a text file\n",
    "with open(\"reddit_python_titles.txt\", \"w\") as file:\n",
    "    for title in titles:\n",
    "        file.write(title + \"\\n\")\n",
    "\n",
    "# Optional: Store data in a CSV file\n",
    "df = pd.DataFrame(titles, columns=[\"Title\"])\n",
    "df.to_csv(\"reddit_python_titles.csv\", index=False)\n",
    "\n",
    "print(\"Data scraped and saved successfully.\")\n"
   ]
  }
 ],
 "metadata": {
  "kernelspec": {
   "display_name": "Python 3 (ipykernel)",
   "language": "python",
   "name": "python3"
  },
  "language_info": {
   "codemirror_mode": {
    "name": "ipython",
    "version": 3
   },
   "file_extension": ".py",
   "mimetype": "text/x-python",
   "name": "python",
   "nbconvert_exporter": "python",
   "pygments_lexer": "ipython3",
   "version": "3.10.0"
  }
 },
 "nbformat": 4,
 "nbformat_minor": 5
}
